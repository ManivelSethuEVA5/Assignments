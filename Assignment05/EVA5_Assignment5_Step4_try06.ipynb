{
  "nbformat": 4,
  "nbformat_minor": 0,
  "metadata": {
    "colab": {
      "name": "EVA5_Assignment5_Step4_try06.ipynb",
      "provenance": [],
      "collapsed_sections": [],
      "authorship_tag": "ABX9TyNGCpCJAfObaUtIfBFtkib5"
    },
    "kernelspec": {
      "name": "python3",
      "display_name": "Python 3"
    },
    "accelerator": "GPU"
  },
  "cells": [
    {
      "cell_type": "code",
      "metadata": {
        "id": "vtA_G9_o1bpx",
        "colab_type": "code",
        "colab": {}
      },
      "source": [
        "import numpy as np\n",
        "\n",
        "import torch\n",
        "from torchvision import datasets, transforms\n",
        "from torch.utils.data import DataLoader\n",
        "from torchsummary import summary\n",
        "from torch import nn\n",
        "import torch.nn\n",
        "from torch.functional import F\n",
        "\n",
        "from tqdm import tqdm\n",
        "import torch.optim as optim\n",
        "\n",
        "\n",
        "import matplotlib.pyplot as plt\n",
        "import os"
      ],
      "execution_count": 1,
      "outputs": []
    },
    {
      "cell_type": "code",
      "metadata": {
        "id": "hIsNhj2e1g9l",
        "colab_type": "code",
        "colab": {}
      },
      "source": [
        "train_transforms = transforms.Compose([\n",
        "                                      transforms.RandomRotation((-14.0, 14.0), fill=(1,)),\n",
        "                                      transforms.ColorJitter(brightness=0.10, contrast=0.1, saturation=0.10, hue=0.1),\n",
        "                                      transforms.ToTensor(),\n",
        "                                      transforms.Normalize((0.1307,),(0.3081,)),\n",
        "                                      ])\n",
        "\n",
        "\n",
        "test_transforms = transforms.Compose([\n",
        "                                    #   transforms.RandomRotation((-7.0, 7.0), fill=(1,)),\n",
        "                                    #   transforms.ColorJitter(brightness=0.10, contrast=0.1, saturation=0.10, hue=0.1),\n",
        "                                      transforms.ToTensor(),\n",
        "                                      transforms.Normalize((0.1307,),(0.3081,)),\n",
        "                                      ])"
      ],
      "execution_count": 2,
      "outputs": []
    },
    {
      "cell_type": "code",
      "metadata": {
        "id": "u0GAjcjc1hZg",
        "colab_type": "code",
        "colab": {}
      },
      "source": [
        "train = datasets.MNIST('./data', train=True, download=True, transform=train_transforms)\n",
        "test = datasets.MNIST('./data',train=False, download=True, transform=test_transforms)"
      ],
      "execution_count": 3,
      "outputs": []
    },
    {
      "cell_type": "code",
      "metadata": {
        "id": "Dl6V8bbG1oK8",
        "colab_type": "code",
        "colab": {
          "base_uri": "https://localhost:8080/",
          "height": 35
        },
        "outputId": "3487440a-d335-4338-8b1a-a2f1b8ca3c6c"
      },
      "source": [
        "#\n",
        "SEED = 1\n",
        "\n",
        "device = 'cuda' if torch.cuda else 'cpu'\n",
        "print(device)\n",
        "\n",
        "# for Reproducable results\n",
        "torch.manual_seed(SEED)\n",
        "\n",
        "#Setting seed if CUDA\n",
        "if torch.cuda.is_available():\n",
        "    torch.cuda.manual_seed(SEED)\n",
        "\n",
        "# Dataloader Arguments\n",
        "dataloader_args = dict(shuffle=True, num_workers=4, batch_size=128, pin_memory=True) if torch.cuda.is_available() else dict(shuffle=True, batch_size=64)\n",
        "\n",
        "train_dataloader = DataLoader(train,**dataloader_args)\n",
        "\n",
        "test_dataloader = DataLoader(test, **dataloader_args)"
      ],
      "execution_count": 4,
      "outputs": [
        {
          "output_type": "stream",
          "text": [
            "cuda\n"
          ],
          "name": "stdout"
        }
      ]
    },
    {
      "cell_type": "code",
      "metadata": {
        "id": "3KpO2SAi1qaq",
        "colab_type": "code",
        "colab": {}
      },
      "source": [
        "#The Model"
      ],
      "execution_count": 5,
      "outputs": []
    },
    {
      "cell_type": "code",
      "metadata": {
        "id": "Ljtgiglj1tRL",
        "colab_type": "code",
        "colab": {}
      },
      "source": [
        "dropoutValue = 0.02 # 2% drop out value \n",
        "class Net(nn.Module):\n",
        "    def __init__(self):\n",
        "        super(Net, self).__init__()\n",
        "\n",
        "        self.conv1 = nn.Sequential(\n",
        "            nn.Conv2d(1, 10, 3, bias=False, padding=1),  # 28\n",
        "            nn.ReLU(),\n",
        "            nn.Dropout(dropoutValue),\n",
        "            nn.BatchNorm2d(10),\n",
        "        )\n",
        "        \n",
        "        self.conv2 = nn.Sequential(\n",
        "            nn.Conv2d(10, 10, 3, bias=False, padding=1),  # 28\n",
        "            nn.ReLU(),\n",
        "            nn.BatchNorm2d(10),\n",
        "            nn.Dropout(dropoutValue),\n",
        "\n",
        "        )\n",
        "\n",
        "        self.pool1 = nn.MaxPool2d(2, 2) #14\n",
        "\n",
        "        self.conv3 = nn.Sequential(\n",
        "            nn.Conv2d(10, 10, 3, bias=False),  # 12\n",
        "            nn.ReLU(),\n",
        "            nn.BatchNorm2d(10),\n",
        "            nn.Dropout(dropoutValue),\n",
        "            # nn.MaxPool2d(2,2), #11\n",
        "        )\n",
        "\n",
        "        self.conv4 = nn.Sequential(\n",
        "            nn.Conv2d(10, 10, 3, bias=False, padding=0),  # 10\n",
        "            nn.ReLU(),\n",
        "            nn.BatchNorm2d(10),\n",
        "            nn.Dropout(dropoutValue),\n",
        "         )\n",
        "\n",
        "        self.convn = nn.Sequential(\n",
        "            nn.Conv2d(10, 16, 3, bias=False, padding=0),  # 8\n",
        "            nn.ReLU(),\n",
        "            nn.BatchNorm2d(16),\n",
        "            nn.Dropout(dropoutValue),\n",
        "         )\n",
        "\n",
        "\n",
        "        self.conv5 = nn.Sequential(\n",
        "            nn.Conv2d(16, 16, 3, stride=1, bias=False, padding=0),  # 6\n",
        "            nn.ReLU(),\n",
        "            nn.BatchNorm2d(16),\n",
        "            nn.Dropout(dropoutValue),\n",
        "        )\n",
        "\n",
        "        # self.conv2n = nn.Sequential(\n",
        "        #     nn.Conv2d(16, 10, 1, stride=2, bias=False, padding=1),  # 09\n",
        "        #     nn.ReLU(),\n",
        "        #     nn.Dropout(0.05),\n",
        "        #     nn.BatchNorm2d(10),\n",
        "            \n",
        "        # )\n",
        "\n",
        "       # self.conv6 = nn.Sequential(\n",
        "       #     nn.Conv2d(16, 16, 3, bias=False, padding=0),  # 4\n",
        "       #     nn.ReLU(),\n",
        "       #     nn.BatchNorm2d(16),\n",
        "       #     nn.Dropout(dropoutValue),\n",
        "       # )\n",
        "        \n",
        "       # self.conv7 = nn.Sequential(\n",
        "       #     nn.Conv2d(10, 25, 3, bias=False, padding=1),  #5\n",
        "       #     nn.ReLU(),\n",
        "       #     nn.Dropout(0.05),\n",
        "       #     nn.BatchNorm2d(25),\n",
        "       # )\n",
        "\n",
        "        self.gap = nn.Sequential(\n",
        "            nn.AvgPool2d(kernel_size=6)\n",
        "        )\n",
        "        \n",
        "        # self.conv8 = nn.Sequential(\n",
        "        #     nn.Conv2d(20, 32, 1, bias=False, padding=0),  #1\n",
        "        #     nn.BatchNorm2d(32),\n",
        "        # )\n",
        "\n",
        "        self.conv9 = nn.Sequential(\n",
        "            nn.Conv2d(16, 10, 1, bias=False, padding=0),  #1\n",
        "        )\n",
        "\n",
        "    def forward(self,x):\n",
        "        x = self.conv1(x)\n",
        "        x = self.conv2(x)\n",
        "        x = self.pool1(x)\n",
        "        x = self.conv3(x)\n",
        "        x = self.conv4(x)\n",
        "        x = self.convn(x)\n",
        "        x = self.conv5(x)\n",
        "        # x = self.conv2n(x)\n",
        "        #x = self.conv6(x)\n",
        "       # x = self.conv7(x)\n",
        "        x = self.gap(x)\n",
        "        # x = self.conv8(x)\n",
        "        x = self.conv9(x)\n",
        "        x = x.view(-1,10)\n",
        "        return F.log_softmax(x, dim=-1)"
      ],
      "execution_count": 6,
      "outputs": []
    },
    {
      "cell_type": "code",
      "metadata": {
        "id": "8TxuSzAM14Rf",
        "colab_type": "code",
        "colab": {
          "base_uri": "https://localhost:8080/",
          "height": 756
        },
        "outputId": "3c18e7ae-c7fb-4b6b-81f7-6c3c0f8a9cda"
      },
      "source": [
        "device = torch.device('cuda' if torch.cuda.is_available() else 'cpu')\n",
        "model = Net().to(device)\n",
        "summary(model, input_size=(1, 28, 28))"
      ],
      "execution_count": 7,
      "outputs": [
        {
          "output_type": "stream",
          "text": [
            "----------------------------------------------------------------\n",
            "        Layer (type)               Output Shape         Param #\n",
            "================================================================\n",
            "            Conv2d-1           [-1, 10, 28, 28]              90\n",
            "              ReLU-2           [-1, 10, 28, 28]               0\n",
            "           Dropout-3           [-1, 10, 28, 28]               0\n",
            "       BatchNorm2d-4           [-1, 10, 28, 28]              20\n",
            "            Conv2d-5           [-1, 10, 28, 28]             900\n",
            "              ReLU-6           [-1, 10, 28, 28]               0\n",
            "       BatchNorm2d-7           [-1, 10, 28, 28]              20\n",
            "           Dropout-8           [-1, 10, 28, 28]               0\n",
            "         MaxPool2d-9           [-1, 10, 14, 14]               0\n",
            "           Conv2d-10           [-1, 10, 12, 12]             900\n",
            "             ReLU-11           [-1, 10, 12, 12]               0\n",
            "      BatchNorm2d-12           [-1, 10, 12, 12]              20\n",
            "          Dropout-13           [-1, 10, 12, 12]               0\n",
            "           Conv2d-14           [-1, 10, 10, 10]             900\n",
            "             ReLU-15           [-1, 10, 10, 10]               0\n",
            "      BatchNorm2d-16           [-1, 10, 10, 10]              20\n",
            "          Dropout-17           [-1, 10, 10, 10]               0\n",
            "           Conv2d-18             [-1, 16, 8, 8]           1,440\n",
            "             ReLU-19             [-1, 16, 8, 8]               0\n",
            "      BatchNorm2d-20             [-1, 16, 8, 8]              32\n",
            "          Dropout-21             [-1, 16, 8, 8]               0\n",
            "           Conv2d-22             [-1, 16, 6, 6]           2,304\n",
            "             ReLU-23             [-1, 16, 6, 6]               0\n",
            "      BatchNorm2d-24             [-1, 16, 6, 6]              32\n",
            "          Dropout-25             [-1, 16, 6, 6]               0\n",
            "        AvgPool2d-26             [-1, 16, 1, 1]               0\n",
            "           Conv2d-27             [-1, 10, 1, 1]             160\n",
            "================================================================\n",
            "Total params: 6,838\n",
            "Trainable params: 6,838\n",
            "Non-trainable params: 0\n",
            "----------------------------------------------------------------\n",
            "Input size (MB): 0.00\n",
            "Forward/backward pass size (MB): 0.62\n",
            "Params size (MB): 0.03\n",
            "Estimated Total Size (MB): 0.65\n",
            "----------------------------------------------------------------\n"
          ],
          "name": "stdout"
        }
      ]
    },
    {
      "cell_type": "code",
      "metadata": {
        "id": "guagNjPH12u0",
        "colab_type": "code",
        "colab": {}
      },
      "source": [
        "train_acc = []\n",
        "test_acc = []\n",
        "train_losses = []\n",
        "test_losses = []\n",
        "\n",
        "def train(model, device, train_dataloader, optimizer, epochs):\n",
        "    model.train()\n",
        "    pbar = tqdm(train_dataloader)\n",
        "    correct = 0\n",
        "    processed = 0\n",
        "\n",
        "    for batch_idx, (data, target) in enumerate(pbar):\n",
        "        data, target = data.to(device), target.to(device)\n",
        "        optimizer.zero_grad()\n",
        "        y_pred = model(data)\n",
        "        loss = F.nll_loss(y_pred, target)\n",
        "        train_losses.append(loss)\n",
        "        loss.backward()\n",
        "        optimizer.step()\n",
        "\n",
        "        pred = y_pred.argmax(dim=1, keepdim=True)\n",
        "        correct += pred.eq(target.view_as(pred)).sum().item()\n",
        "        processed += len(data)\n",
        "\n",
        "        pbar.set_description(desc=f'Loss={loss.item()} Batch_id={batch_idx} Accuracy={100*correct/processed:0.2f}')\n",
        "        train_acc.append(100*correct/processed)\n",
        "\n",
        "\n",
        "\n",
        "def test(model, device, test_dataloader):\n",
        "    model.eval()\n",
        "    test_loss = 0\n",
        "    correct = 0\n",
        "    \n",
        "    with torch.no_grad():\n",
        "\n",
        "        for data, target in test_dataloader:\n",
        "            data, target = data.to(device), target.to(device)\n",
        "            output = model(data)\n",
        "            pred = output.argmax(dim=1, keepdim=True)\n",
        "            test_loss += F.nll_loss(output, target, reduction='sum').item()\n",
        "            correct += pred.eq(target.view_as(pred)).sum().item()\n",
        "    test_loss /= len(test_dataloader.dataset)\n",
        "    test_losses.append(test_loss)\n",
        "    \n",
        "    print('\\nTest set: Average loss: {:.4f}, Accuracy: {}/{} ({:.2f}%)\\n'.format(\n",
        "        test_loss, correct, len(test_dataloader.dataset),\n",
        "        100. * correct / len(test_dataloader.dataset)))\n",
        "    \n",
        "    test_acc.append(100. * correct / len(test_dataloader.dataset))"
      ],
      "execution_count": 8,
      "outputs": []
    },
    {
      "cell_type": "code",
      "metadata": {
        "id": "bJu-lCCb2DQE",
        "colab_type": "code",
        "colab": {
          "base_uri": "https://localhost:8080/",
          "height": 1000
        },
        "outputId": "0bf28bcc-be1d-46a4-99bc-fdc5f82d179a"
      },
      "source": [
        "\n",
        "from torch.optim.lr_scheduler import StepLR, ReduceLROnPlateau\n",
        "model = Net().to(device)\n",
        "optimizer = optim.SGD(model.parameters(), lr=0.02, momentum=0.9)\n",
        "# scheduler = ReduceLROnPlateau(optimizer, mode='min', factor=0.1, patience=3, verbose=False, threshold=0.0001, threshold_mode='rel', cooldown=0, min_lr=0, eps=1e-08)\n",
        "scheduler = StepLR(optimizer, step_size=10, gamma=0.06)\n",
        "EPOCHS = 14\n",
        "\n",
        "for epoch in range(EPOCHS):\n",
        "    print('EPOCH - ', epoch)\n",
        "    train(model, device, train_dataloader, optimizer, epoch)\n",
        "    scheduler.step()\n",
        "    test(model, device, test_dataloader)"
      ],
      "execution_count": 9,
      "outputs": [
        {
          "output_type": "stream",
          "text": [
            "\r  0%|          | 0/469 [00:00<?, ?it/s]"
          ],
          "name": "stderr"
        },
        {
          "output_type": "stream",
          "text": [
            "EPOCH -  0\n"
          ],
          "name": "stdout"
        },
        {
          "output_type": "stream",
          "text": [
            "Loss=0.06987620145082474 Batch_id=468 Accuracy=89.79: 100%|██████████| 469/469 [00:45<00:00, 10.29it/s]\n",
            "  0%|          | 0/469 [00:00<?, ?it/s]"
          ],
          "name": "stderr"
        },
        {
          "output_type": "stream",
          "text": [
            "\n",
            "Test set: Average loss: 0.0760, Accuracy: 9764/10000 (97.64%)\n",
            "\n",
            "EPOCH -  1\n"
          ],
          "name": "stdout"
        },
        {
          "output_type": "stream",
          "text": [
            "Loss=0.06872305274009705 Batch_id=468 Accuracy=97.60: 100%|██████████| 469/469 [00:45<00:00, 10.24it/s]\n",
            "  0%|          | 0/469 [00:00<?, ?it/s]"
          ],
          "name": "stderr"
        },
        {
          "output_type": "stream",
          "text": [
            "\n",
            "Test set: Average loss: 0.0382, Accuracy: 9893/10000 (98.93%)\n",
            "\n",
            "EPOCH -  2\n"
          ],
          "name": "stdout"
        },
        {
          "output_type": "stream",
          "text": [
            "Loss=0.12577953934669495 Batch_id=468 Accuracy=98.07: 100%|██████████| 469/469 [00:45<00:00, 10.27it/s]\n",
            "  0%|          | 0/469 [00:00<?, ?it/s]"
          ],
          "name": "stderr"
        },
        {
          "output_type": "stream",
          "text": [
            "\n",
            "Test set: Average loss: 0.0363, Accuracy: 9898/10000 (98.98%)\n",
            "\n",
            "EPOCH -  3\n"
          ],
          "name": "stdout"
        },
        {
          "output_type": "stream",
          "text": [
            "Loss=0.081313356757164 Batch_id=468 Accuracy=98.40: 100%|██████████| 469/469 [00:45<00:00, 10.21it/s]\n",
            "  0%|          | 0/469 [00:00<?, ?it/s]"
          ],
          "name": "stderr"
        },
        {
          "output_type": "stream",
          "text": [
            "\n",
            "Test set: Average loss: 0.0290, Accuracy: 9916/10000 (99.16%)\n",
            "\n",
            "EPOCH -  4\n"
          ],
          "name": "stdout"
        },
        {
          "output_type": "stream",
          "text": [
            "Loss=0.06582865864038467 Batch_id=468 Accuracy=98.44: 100%|██████████| 469/469 [00:45<00:00, 10.28it/s]\n",
            "  0%|          | 0/469 [00:00<?, ?it/s]"
          ],
          "name": "stderr"
        },
        {
          "output_type": "stream",
          "text": [
            "\n",
            "Test set: Average loss: 0.0321, Accuracy: 9902/10000 (99.02%)\n",
            "\n",
            "EPOCH -  5\n"
          ],
          "name": "stdout"
        },
        {
          "output_type": "stream",
          "text": [
            "Loss=0.011517872102558613 Batch_id=468 Accuracy=98.58: 100%|██████████| 469/469 [00:45<00:00, 10.22it/s]\n",
            "  0%|          | 0/469 [00:00<?, ?it/s]"
          ],
          "name": "stderr"
        },
        {
          "output_type": "stream",
          "text": [
            "\n",
            "Test set: Average loss: 0.0244, Accuracy: 9926/10000 (99.26%)\n",
            "\n",
            "EPOCH -  6\n"
          ],
          "name": "stdout"
        },
        {
          "output_type": "stream",
          "text": [
            "Loss=0.046750757843256 Batch_id=468 Accuracy=98.71: 100%|██████████| 469/469 [00:46<00:00, 10.19it/s]\n",
            "  0%|          | 0/469 [00:00<?, ?it/s]"
          ],
          "name": "stderr"
        },
        {
          "output_type": "stream",
          "text": [
            "\n",
            "Test set: Average loss: 0.0222, Accuracy: 9932/10000 (99.32%)\n",
            "\n",
            "EPOCH -  7\n"
          ],
          "name": "stdout"
        },
        {
          "output_type": "stream",
          "text": [
            "Loss=0.05967593193054199 Batch_id=468 Accuracy=98.75: 100%|██████████| 469/469 [00:46<00:00, 10.19it/s]\n",
            "  0%|          | 0/469 [00:00<?, ?it/s]"
          ],
          "name": "stderr"
        },
        {
          "output_type": "stream",
          "text": [
            "\n",
            "Test set: Average loss: 0.0246, Accuracy: 9926/10000 (99.26%)\n",
            "\n",
            "EPOCH -  8\n"
          ],
          "name": "stdout"
        },
        {
          "output_type": "stream",
          "text": [
            "Loss=0.01762564666569233 Batch_id=468 Accuracy=98.84: 100%|██████████| 469/469 [00:46<00:00, 10.15it/s]\n",
            "  0%|          | 0/469 [00:00<?, ?it/s]"
          ],
          "name": "stderr"
        },
        {
          "output_type": "stream",
          "text": [
            "\n",
            "Test set: Average loss: 0.0250, Accuracy: 9923/10000 (99.23%)\n",
            "\n",
            "EPOCH -  9\n"
          ],
          "name": "stdout"
        },
        {
          "output_type": "stream",
          "text": [
            "Loss=0.011337977834045887 Batch_id=468 Accuracy=98.81: 100%|██████████| 469/469 [00:45<00:00, 10.22it/s]\n",
            "  0%|          | 0/469 [00:00<?, ?it/s]"
          ],
          "name": "stderr"
        },
        {
          "output_type": "stream",
          "text": [
            "\n",
            "Test set: Average loss: 0.0258, Accuracy: 9919/10000 (99.19%)\n",
            "\n",
            "EPOCH -  10\n"
          ],
          "name": "stdout"
        },
        {
          "output_type": "stream",
          "text": [
            "Loss=0.01194742415100336 Batch_id=468 Accuracy=99.04: 100%|██████████| 469/469 [00:45<00:00, 10.22it/s]\n",
            "  0%|          | 0/469 [00:00<?, ?it/s]"
          ],
          "name": "stderr"
        },
        {
          "output_type": "stream",
          "text": [
            "\n",
            "Test set: Average loss: 0.0203, Accuracy: 9936/10000 (99.36%)\n",
            "\n",
            "EPOCH -  11\n"
          ],
          "name": "stdout"
        },
        {
          "output_type": "stream",
          "text": [
            "Loss=0.018677525222301483 Batch_id=468 Accuracy=99.13: 100%|██████████| 469/469 [00:46<00:00, 10.15it/s]\n",
            "  0%|          | 0/469 [00:00<?, ?it/s]"
          ],
          "name": "stderr"
        },
        {
          "output_type": "stream",
          "text": [
            "\n",
            "Test set: Average loss: 0.0191, Accuracy: 9941/10000 (99.41%)\n",
            "\n",
            "EPOCH -  12\n"
          ],
          "name": "stdout"
        },
        {
          "output_type": "stream",
          "text": [
            "Loss=0.0076940120197832584 Batch_id=468 Accuracy=99.16: 100%|██████████| 469/469 [00:46<00:00, 10.13it/s]\n",
            "  0%|          | 0/469 [00:00<?, ?it/s]"
          ],
          "name": "stderr"
        },
        {
          "output_type": "stream",
          "text": [
            "\n",
            "Test set: Average loss: 0.0201, Accuracy: 9938/10000 (99.38%)\n",
            "\n",
            "EPOCH -  13\n"
          ],
          "name": "stdout"
        },
        {
          "output_type": "stream",
          "text": [
            "Loss=0.04709492623806 Batch_id=468 Accuracy=99.13: 100%|██████████| 469/469 [00:46<00:00, 10.09it/s]\n"
          ],
          "name": "stderr"
        },
        {
          "output_type": "stream",
          "text": [
            "\n",
            "Test set: Average loss: 0.0194, Accuracy: 9941/10000 (99.41%)\n",
            "\n"
          ],
          "name": "stdout"
        }
      ]
    },
    {
      "cell_type": "code",
      "metadata": {
        "id": "-kJWhr7S2FZh",
        "colab_type": "code",
        "colab": {
          "base_uri": "https://localhost:8080/",
          "height": 625
        },
        "outputId": "d6210b4a-3bd2-4bf1-b7c6-106203ef2444"
      },
      "source": [
        "fig, axs = plt.subplots(2,2, figsize=(15,10))\n",
        "axs[0,0].plot(train_losses)\n",
        "axs[0,0].set_title('train_losses')\n",
        "axs[0,1].plot(train_acc)\n",
        "axs[0,1].set_title('Training Accuracy')\n",
        "axs[1,0].plot(test_losses)\n",
        "axs[1,0].set_title('Test Losses')\n",
        "axs[1,1].plot(test_acc)\n",
        "axs[1,1].set_title('Test Accuracy')"
      ],
      "execution_count": 10,
      "outputs": [
        {
          "output_type": "execute_result",
          "data": {
            "text/plain": [
              "Text(0.5, 1.0, 'Test Accuracy')"
            ]
          },
          "metadata": {
            "tags": []
          },
          "execution_count": 10
        },
        {
          "output_type": "display_data",
          "data": {
            "image/png": "[encoded data removed]",
            "text/plain": [
              "<Figure size 1080x720 with 4 Axes>"
            ]
          },
          "metadata": {
            "tags": [],
            "needs_background": "light"
          }
        }
      ]
    }
  ]
}