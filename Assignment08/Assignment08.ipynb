{
  "nbformat": 4,
  "nbformat_minor": 0,
  "metadata": {
    "colab": {
      "name": "Assignment08.ipynb",
      "provenance": [],
      "authorship_tag": "ABX9TyN5VGZ3QmmHaRQC1/ZoFd+X"
    },
    "kernelspec": {
      "name": "python3",
      "display_name": "Python 3"
    },
    "accelerator": "GPU",
    "widgets": {
      "application/vnd.jupyter.widget-state+json": {
        "a39b32f88cad42c29c6ab41080abceae": {
          "model_module": "@jupyter-widgets/controls",
          "model_name": "HBoxModel",
          "state": {
            "_view_name": "HBoxView",
            "_dom_classes": [],
            "_model_name": "HBoxModel",
            "_view_module": "@jupyter-widgets/controls",
            "_model_module_version": "1.5.0",
            "_view_count": null,
            "_view_module_version": "1.5.0",
            "box_style": "",
            "layout": "IPY_MODEL_327fdbfd4d5a4451a14030befd690cea",
            "_model_module": "@jupyter-widgets/controls",
            "children": [
              "IPY_MODEL_1fc42398a58a4262a345d3ea32fd3b84",
              "IPY_MODEL_d72c5e60e3b14a729c1554b7172416c4"
            ]
          }
        },
        "327fdbfd4d5a4451a14030befd690cea": {
          "model_module": "@jupyter-widgets/base",
          "model_name": "LayoutModel",
          "state": {
            "_view_name": "LayoutView",
            "grid_template_rows": null,
            "right": null,
            "justify_content": null,
            "_view_module": "@jupyter-widgets/base",
            "overflow": null,
            "_model_module_version": "1.2.0",
            "_view_count": null,
            "flex_flow": null,
            "width": null,
            "min_width": null,
            "border": null,
            "align_items": null,
            "bottom": null,
            "_model_module": "@jupyter-widgets/base",
            "top": null,
            "grid_column": null,
            "overflow_y": null,
            "overflow_x": null,
            "grid_auto_flow": null,
            "grid_area": null,
            "grid_template_columns": null,
            "flex": null,
            "_model_name": "LayoutModel",
            "justify_items": null,
            "grid_row": null,
            "max_height": null,
            "align_content": null,
            "visibility": null,
            "align_self": null,
            "height": null,
            "min_height": null,
            "padding": null,
            "grid_auto_rows": null,
            "grid_gap": null,
            "max_width": null,
            "order": null,
            "_view_module_version": "1.2.0",
            "grid_template_areas": null,
            "object_position": null,
            "object_fit": null,
            "grid_auto_columns": null,
            "margin": null,
            "display": null,
            "left": null
          }
        },
        "1fc42398a58a4262a345d3ea32fd3b84": {
          "model_module": "@jupyter-widgets/controls",
          "model_name": "FloatProgressModel",
          "state": {
            "_view_name": "ProgressView",
            "style": "IPY_MODEL_8735d2eaf19a42d9b0c08d75345fc96b",
            "_dom_classes": [],
            "description": "",
            "_model_name": "FloatProgressModel",
            "bar_style": "info",
            "max": 1,
            "_view_module": "@jupyter-widgets/controls",
            "_model_module_version": "1.5.0",
            "value": 1,
            "_view_count": null,
            "_view_module_version": "1.5.0",
            "orientation": "horizontal",
            "min": 0,
            "description_tooltip": null,
            "_model_module": "@jupyter-widgets/controls",
            "layout": "IPY_MODEL_0f7ea367b5aa4bf081961c880a6d9390"
          }
        },
        "d72c5e60e3b14a729c1554b7172416c4": {
          "model_module": "@jupyter-widgets/controls",
          "model_name": "HTMLModel",
          "state": {
            "_view_name": "HTMLView",
            "style": "IPY_MODEL_2d03a29a168e41368d7f2634b7437f60",
            "_dom_classes": [],
            "description": "",
            "_model_name": "HTMLModel",
            "placeholder": "​",
            "_view_module": "@jupyter-widgets/controls",
            "_model_module_version": "1.5.0",
            "value": " 170500096/? [00:30&lt;00:00, 14762319.36it/s]",
            "_view_count": null,
            "_view_module_version": "1.5.0",
            "description_tooltip": null,
            "_model_module": "@jupyter-widgets/controls",
            "layout": "IPY_MODEL_97740aadc197476785db973ae97127ed"
          }
        },
        "8735d2eaf19a42d9b0c08d75345fc96b": {
          "model_module": "@jupyter-widgets/controls",
          "model_name": "ProgressStyleModel",
          "state": {
            "_view_name": "StyleView",
            "_model_name": "ProgressStyleModel",
            "description_width": "initial",
            "_view_module": "@jupyter-widgets/base",
            "_model_module_version": "1.5.0",
            "_view_count": null,
            "_view_module_version": "1.2.0",
            "bar_color": null,
            "_model_module": "@jupyter-widgets/controls"
          }
        },
        "0f7ea367b5aa4bf081961c880a6d9390": {
          "model_module": "@jupyter-widgets/base",
          "model_name": "LayoutModel",
          "state": {
            "_view_name": "LayoutView",
            "grid_template_rows": null,
            "right": null,
            "justify_content": null,
            "_view_module": "@jupyter-widgets/base",
            "overflow": null,
            "_model_module_version": "1.2.0",
            "_view_count": null,
            "flex_flow": null,
            "width": null,
            "min_width": null,
            "border": null,
            "align_items": null,
            "bottom": null,
            "_model_module": "@jupyter-widgets/base",
            "top": null,
            "grid_column": null,
            "overflow_y": null,
            "overflow_x": null,
            "grid_auto_flow": null,
            "grid_area": null,
            "grid_template_columns": null,
            "flex": null,
            "_model_name": "LayoutModel",
            "justify_items": null,
            "grid_row": null,
            "max_height": null,
            "align_content": null,
            "visibility": null,
            "align_self": null,
            "height": null,
            "min_height": null,
            "padding": null,
            "grid_auto_rows": null,
            "grid_gap": null,
            "max_width": null,
            "order": null,
            "_view_module_version": "1.2.0",
            "grid_template_areas": null,
            "object_position": null,
            "object_fit": null,
            "grid_auto_columns": null,
            "margin": null,
            "display": null,
            "left": null
          }
        },
        "2d03a29a168e41368d7f2634b7437f60": {
          "model_module": "@jupyter-widgets/controls",
          "model_name": "DescriptionStyleModel",
          "state": {
            "_view_name": "StyleView",
            "_model_name": "DescriptionStyleModel",
            "description_width": "",
            "_view_module": "@jupyter-widgets/base",
            "_model_module_version": "1.5.0",
            "_view_count": null,
            "_view_module_version": "1.2.0",
            "_model_module": "@jupyter-widgets/controls"
          }
        },
        "97740aadc197476785db973ae97127ed": {
          "model_module": "@jupyter-widgets/base",
          "model_name": "LayoutModel",
          "state": {
            "_view_name": "LayoutView",
            "grid_template_rows": null,
            "right": null,
            "justify_content": null,
            "_view_module": "@jupyter-widgets/base",
            "overflow": null,
            "_model_module_version": "1.2.0",
            "_view_count": null,
            "flex_flow": null,
            "width": null,
            "min_width": null,
            "border": null,
            "align_items": null,
            "bottom": null,
            "_model_module": "@jupyter-widgets/base",
            "top": null,
            "grid_column": null,
            "overflow_y": null,
            "overflow_x": null,
            "grid_auto_flow": null,
            "grid_area": null,
            "grid_template_columns": null,
            "flex": null,
            "_model_name": "LayoutModel",
            "justify_items": null,
            "grid_row": null,
            "max_height": null,
            "align_content": null,
            "visibility": null,
            "align_self": null,
            "height": null,
            "min_height": null,
            "padding": null,
            "grid_auto_rows": null,
            "grid_gap": null,
            "max_width": null,
            "order": null,
            "_view_module_version": "1.2.0",
            "grid_template_areas": null,
            "object_position": null,
            "object_fit": null,
            "grid_auto_columns": null,
            "margin": null,
            "display": null,
            "left": null
          }
        }
      }
    }
  },
  "cells": [
    {
      "cell_type": "code",
      "metadata": {
        "id": "dhBXFQaT2TyN",
        "colab_type": "code",
        "colab": {
          "base_uri": "https://localhost:8080/",
          "height": 35
        },
        "outputId": "8330d97f-ab88-4861-d110-a801fa105477"
      },
      "source": [
        "#Clone\n",
        "!git clone https://github.com/ManivelSethuEVA5/Assignments "
      ],
      "execution_count": 15,
      "outputs": [
        {
          "output_type": "stream",
          "text": [
            "fatal: destination path 'Assignments' already exists and is not an empty directory.\n"
          ],
          "name": "stdout"
        }
      ]
    },
    {
      "cell_type": "code",
      "metadata": {
        "id": "tfGwaISg2LES",
        "colab_type": "code",
        "colab": {
          "base_uri": "https://localhost:8080/",
          "height": 183
        },
        "outputId": "e11eb76c-0418-4b17-d160-0a53c754bb57"
      },
      "source": [
        "import torch\n",
        "import torchvision\n",
        "import torchvision.transforms as transforms\n",
        "from torchsummary import summary\n",
        "import torch.nn as nn\n",
        "import torch.nn.functional as F\n",
        "import torch.optim as optim\n",
        "from torch.optim.lr_scheduler import StepLR, ReduceLROnPlateau\n",
        "import os\n",
        "\n",
        "from Assignments.Models.Model_Test import model_testing\n",
        "\n",
        "from Assignments.Models.Model_Train import model_training\n",
        "\n",
        "from Assignments.Models.Model_Misclassified import *\n",
        "\n",
        "from Assignments.Models.Model_GetData import GetCIFAR10_TrainData\n",
        "\n",
        "import matplotlib.pyplot as plt\n",
        "%matplotlib inline\n",
        "\n",
        "device = \"cuda\" if torch.cuda.is_available else \"cpu\"\n",
        "print(device)"
      ],
      "execution_count": 18,
      "outputs": [
        {
          "output_type": "stream",
          "text": [
            "Compose(\n",
            "    RandomHorizontalFlip(p=0.5)\n",
            "    RandomRotation(degrees=(-10, 10), resample=False, expand=False)\n",
            "    RandomAffine(degrees=(0, 0), scale=(0.8, 1.2), shear=(-10, 10))\n",
            "    ColorJitter(brightness=[0.8, 1.2], contrast=[0.8, 1.2], saturation=[0.8, 1.2], hue=None)\n",
            "    ToTensor()\n",
            "    Normalize(mean=(0.491, 0.482, 0.446), std=(0.247, 0.243, 0.261))\n",
            ")\n",
            "cuda\n"
          ],
          "name": "stdout"
        }
      ]
    },
    {
      "cell_type": "code",
      "metadata": {
        "id": "6yJtU7UY_g7b",
        "colab_type": "code",
        "colab": {
          "base_uri": "https://localhost:8080/",
          "height": 1000
        },
        "outputId": "d4ad0190-7ae8-46e8-de61-54de85b2e5cb"
      },
      "source": [
        "#from shrinkai.model.resnetmodel8 import ResNet18\n",
        "from Assignments.Models.Model_ResNet18 import ResNet18\n",
        "model = ResNet18().to(device)\n",
        "summary(model, input_size=(3,32,32))"
      ],
      "execution_count": 19,
      "outputs": [
        {
          "output_type": "stream",
          "text": [
            "----------------------------------------------------------------\n",
            "        Layer (type)               Output Shape         Param #\n",
            "================================================================\n",
            "            Conv2d-1           [-1, 64, 32, 32]           1,728\n",
            "       BatchNorm2d-2           [-1, 64, 32, 32]             128\n",
            "            Conv2d-3           [-1, 64, 32, 32]          36,864\n",
            "       BatchNorm2d-4           [-1, 64, 32, 32]             128\n",
            "           Dropout-5           [-1, 64, 32, 32]               0\n",
            "            Conv2d-6           [-1, 64, 32, 32]          36,864\n",
            "       BatchNorm2d-7           [-1, 64, 32, 32]             128\n",
            "           Dropout-8           [-1, 64, 32, 32]               0\n",
            "        BasicBlock-9           [-1, 64, 32, 32]               0\n",
            "           Conv2d-10           [-1, 64, 32, 32]          36,864\n",
            "      BatchNorm2d-11           [-1, 64, 32, 32]             128\n",
            "          Dropout-12           [-1, 64, 32, 32]               0\n",
            "           Conv2d-13           [-1, 64, 32, 32]          36,864\n",
            "      BatchNorm2d-14           [-1, 64, 32, 32]             128\n",
            "          Dropout-15           [-1, 64, 32, 32]               0\n",
            "       BasicBlock-16           [-1, 64, 32, 32]               0\n",
            "           Conv2d-17          [-1, 128, 16, 16]          73,728\n",
            "      BatchNorm2d-18          [-1, 128, 16, 16]             256\n",
            "          Dropout-19          [-1, 128, 16, 16]               0\n",
            "           Conv2d-20          [-1, 128, 16, 16]         147,456\n",
            "      BatchNorm2d-21          [-1, 128, 16, 16]             256\n",
            "          Dropout-22          [-1, 128, 16, 16]               0\n",
            "           Conv2d-23          [-1, 128, 16, 16]           8,192\n",
            "      BatchNorm2d-24          [-1, 128, 16, 16]             256\n",
            "          Dropout-25          [-1, 128, 16, 16]               0\n",
            "       BasicBlock-26          [-1, 128, 16, 16]               0\n",
            "           Conv2d-27          [-1, 128, 16, 16]         147,456\n",
            "      BatchNorm2d-28          [-1, 128, 16, 16]             256\n",
            "          Dropout-29          [-1, 128, 16, 16]               0\n",
            "           Conv2d-30          [-1, 128, 16, 16]         147,456\n",
            "      BatchNorm2d-31          [-1, 128, 16, 16]             256\n",
            "          Dropout-32          [-1, 128, 16, 16]               0\n",
            "       BasicBlock-33          [-1, 128, 16, 16]               0\n",
            "           Conv2d-34            [-1, 256, 8, 8]         294,912\n",
            "      BatchNorm2d-35            [-1, 256, 8, 8]             512\n",
            "          Dropout-36            [-1, 256, 8, 8]               0\n",
            "           Conv2d-37            [-1, 256, 8, 8]         589,824\n",
            "      BatchNorm2d-38            [-1, 256, 8, 8]             512\n",
            "          Dropout-39            [-1, 256, 8, 8]               0\n",
            "           Conv2d-40            [-1, 256, 8, 8]          32,768\n",
            "      BatchNorm2d-41            [-1, 256, 8, 8]             512\n",
            "          Dropout-42            [-1, 256, 8, 8]               0\n",
            "       BasicBlock-43            [-1, 256, 8, 8]               0\n",
            "           Conv2d-44            [-1, 256, 8, 8]         589,824\n",
            "      BatchNorm2d-45            [-1, 256, 8, 8]             512\n",
            "          Dropout-46            [-1, 256, 8, 8]               0\n",
            "           Conv2d-47            [-1, 256, 8, 8]         589,824\n",
            "      BatchNorm2d-48            [-1, 256, 8, 8]             512\n",
            "          Dropout-49            [-1, 256, 8, 8]               0\n",
            "       BasicBlock-50            [-1, 256, 8, 8]               0\n",
            "           Conv2d-51            [-1, 512, 4, 4]       1,179,648\n",
            "      BatchNorm2d-52            [-1, 512, 4, 4]           1,024\n",
            "          Dropout-53            [-1, 512, 4, 4]               0\n",
            "           Conv2d-54            [-1, 512, 4, 4]       2,359,296\n",
            "      BatchNorm2d-55            [-1, 512, 4, 4]           1,024\n",
            "          Dropout-56            [-1, 512, 4, 4]               0\n",
            "           Conv2d-57            [-1, 512, 4, 4]         131,072\n",
            "      BatchNorm2d-58            [-1, 512, 4, 4]           1,024\n",
            "          Dropout-59            [-1, 512, 4, 4]               0\n",
            "       BasicBlock-60            [-1, 512, 4, 4]               0\n",
            "           Conv2d-61            [-1, 512, 4, 4]       2,359,296\n",
            "      BatchNorm2d-62            [-1, 512, 4, 4]           1,024\n",
            "          Dropout-63            [-1, 512, 4, 4]               0\n",
            "           Conv2d-64            [-1, 512, 4, 4]       2,359,296\n",
            "      BatchNorm2d-65            [-1, 512, 4, 4]           1,024\n",
            "          Dropout-66            [-1, 512, 4, 4]               0\n",
            "       BasicBlock-67            [-1, 512, 4, 4]               0\n",
            "           Linear-68                   [-1, 10]           5,130\n",
            "================================================================\n",
            "Total params: 11,173,962\n",
            "Trainable params: 11,173,962\n",
            "Non-trainable params: 0\n",
            "----------------------------------------------------------------\n",
            "Input size (MB): 0.01\n",
            "Forward/backward pass size (MB): 15.44\n",
            "Params size (MB): 42.63\n",
            "Estimated Total Size (MB): 58.07\n",
            "----------------------------------------------------------------\n"
          ],
          "name": "stdout"
        }
      ]
    },
    {
      "cell_type": "code",
      "metadata": {
        "id": "NkbTUV_oCgh0",
        "colab_type": "code",
        "colab": {
          "base_uri": "https://localhost:8080/",
          "height": 104,
          "referenced_widgets": [
            "a39b32f88cad42c29c6ab41080abceae",
            "327fdbfd4d5a4451a14030befd690cea",
            "1fc42398a58a4262a345d3ea32fd3b84",
            "d72c5e60e3b14a729c1554b7172416c4",
            "8735d2eaf19a42d9b0c08d75345fc96b",
            "0f7ea367b5aa4bf081961c880a6d9390",
            "2d03a29a168e41368d7f2634b7437f60",
            "97740aadc197476785db973ae97127ed"
          ]
        },
        "outputId": "0155e9c1-59a4-4823-ab69-0a75f8425772"
      },
      "source": [
        "cwd = os.getcwd()\n",
        "data = GetCIFAR10_TrainData(os.chdir(\"..\"))\n",
        "trainset = data.download_train_data()\n",
        "testset = data.download_test_data()\n",
        "trainloader = torch.utils.data.DataLoader(trainset, batch_size=128,\n",
        "                                          shuffle=True, num_workers=4)\n",
        "testloader = torch.utils.data.DataLoader(testset, batch_size=128,\n",
        "                                         shuffle=False, num_workers=4)"
      ],
      "execution_count": 20,
      "outputs": [
        {
          "output_type": "stream",
          "text": [
            "Downloading https://www.cs.toronto.edu/~kriz/cifar-10-python.tar.gz to ./data/cifar-10-python.tar.gz\n"
          ],
          "name": "stdout"
        },
        {
          "output_type": "display_data",
          "data": {
            "application/vnd.jupyter.widget-view+json": {
              "model_id": "a39b32f88cad42c29c6ab41080abceae",
              "version_minor": 0,
              "version_major": 2
            },
            "text/plain": [
              "HBox(children=(FloatProgress(value=1.0, bar_style='info', max=1.0), HTML(value='')))"
            ]
          },
          "metadata": {
            "tags": []
          }
        },
        {
          "output_type": "stream",
          "text": [
            "Extracting ./data/cifar-10-python.tar.gz to ./data\n",
            "Files already downloaded and verified\n"
          ],
          "name": "stdout"
        }
      ]
    },
    {
      "cell_type": "code",
      "metadata": {
        "id": "bAFUixauEn0H",
        "colab_type": "code",
        "colab": {}
      },
      "source": [
        ""
      ],
      "execution_count": null,
      "outputs": []
    },
    {
      "cell_type": "code",
      "metadata": {
        "id": "iPijb7glCiWC",
        "colab_type": "code",
        "colab": {
          "base_uri": "https://localhost:8080/",
          "height": 1000
        },
        "outputId": "db9c1290-e1a8-4b38-cbd1-fdc104133eb2"
      },
      "source": [
        "criterion = nn.CrossEntropyLoss()\n",
        "optimizer = optim.SGD(model.parameters(), lr=0.01, momentum=0.9)\n",
        "# scheduler = ReduceLROnPlateau(optimizer, mode='min', factor=0.05, patience=2, threshold=0.001, threshold_mode='rel', cooldown=0, min_lr=0, eps=1e-08, verbose=True)\n",
        "scheduler = StepLR(optimizer, step_size=25, gamma=0.1)\n",
        "\n",
        "train_acc = []\n",
        "train_losses = []\n",
        "test_acc = []\n",
        "test_losses = []\n",
        "\n",
        "EPOCHS = 30\n",
        "\n",
        "for i in range(EPOCHS):\n",
        "    print(f'EPOCHS : {i}')\n",
        "    model_training(model, device, trainloader, optimizer, train_acc, train_losses, l1_loss=False)\n",
        "    scheduler.step()\n",
        "    misclassified = model_testing(model, device, testloader, test_acc, test_losses)"
      ],
      "execution_count": 21,
      "outputs": [
        {
          "output_type": "stream",
          "text": [
            "\r  0%|          | 0/391 [00:00<?, ?it/s]"
          ],
          "name": "stderr"
        },
        {
          "output_type": "stream",
          "text": [
            "EPOCHS : 0\n"
          ],
          "name": "stdout"
        },
        {
          "output_type": "stream",
          "text": [
            "Loss=1.3952521085739136 Batch_id=390 Accuracy=41.94: 100%|██████████| 391/391 [01:07<00:00,  5.82it/s]\n",
            "  0%|          | 0/391 [00:00<?, ?it/s]"
          ],
          "name": "stderr"
        },
        {
          "output_type": "stream",
          "text": [
            "\n",
            "Test set: Average loss: 1.3265, Accuracy: 5271/10000 (52.71%)\n",
            "\n",
            "EPOCHS : 1\n"
          ],
          "name": "stdout"
        },
        {
          "output_type": "stream",
          "text": [
            "Loss=0.9251001477241516 Batch_id=390 Accuracy=59.83: 100%|██████████| 391/391 [01:06<00:00,  5.89it/s]\n",
            "  0%|          | 0/391 [00:00<?, ?it/s]"
          ],
          "name": "stderr"
        },
        {
          "output_type": "stream",
          "text": [
            "\n",
            "Test set: Average loss: 0.8924, Accuracy: 6797/10000 (67.97%)\n",
            "\n",
            "EPOCHS : 2\n"
          ],
          "name": "stdout"
        },
        {
          "output_type": "stream",
          "text": [
            "Loss=0.778039813041687 Batch_id=390 Accuracy=67.76: 100%|██████████| 391/391 [01:06<00:00,  5.88it/s]\n",
            "  0%|          | 0/391 [00:00<?, ?it/s]"
          ],
          "name": "stderr"
        },
        {
          "output_type": "stream",
          "text": [
            "\n",
            "Test set: Average loss: 0.7665, Accuracy: 7336/10000 (73.36%)\n",
            "\n",
            "EPOCHS : 3\n"
          ],
          "name": "stdout"
        },
        {
          "output_type": "stream",
          "text": [
            "Loss=0.689621090888977 Batch_id=390 Accuracy=71.95: 100%|██████████| 391/391 [01:06<00:00,  5.86it/s]\n",
            "  0%|          | 0/391 [00:00<?, ?it/s]"
          ],
          "name": "stderr"
        },
        {
          "output_type": "stream",
          "text": [
            "\n",
            "Test set: Average loss: 0.6659, Accuracy: 7705/10000 (77.05%)\n",
            "\n",
            "EPOCHS : 4\n"
          ],
          "name": "stdout"
        },
        {
          "output_type": "stream",
          "text": [
            "Loss=0.6836097240447998 Batch_id=390 Accuracy=75.03: 100%|██████████| 391/391 [01:06<00:00,  5.86it/s]\n",
            "  0%|          | 0/391 [00:00<?, ?it/s]"
          ],
          "name": "stderr"
        },
        {
          "output_type": "stream",
          "text": [
            "\n",
            "Test set: Average loss: 0.6128, Accuracy: 7910/10000 (79.10%)\n",
            "\n",
            "EPOCHS : 5\n"
          ],
          "name": "stdout"
        },
        {
          "output_type": "stream",
          "text": [
            "Loss=0.4855589270591736 Batch_id=390 Accuracy=77.17: 100%|██████████| 391/391 [01:06<00:00,  5.86it/s]\n",
            "  0%|          | 0/391 [00:00<?, ?it/s]"
          ],
          "name": "stderr"
        },
        {
          "output_type": "stream",
          "text": [
            "\n",
            "Test set: Average loss: 0.5987, Accuracy: 8042/10000 (80.42%)\n",
            "\n",
            "EPOCHS : 6\n"
          ],
          "name": "stdout"
        },
        {
          "output_type": "stream",
          "text": [
            "Loss=0.664249062538147 Batch_id=390 Accuracy=78.39: 100%|██████████| 391/391 [01:06<00:00,  5.86it/s]\n",
            "  0%|          | 0/391 [00:00<?, ?it/s]"
          ],
          "name": "stderr"
        },
        {
          "output_type": "stream",
          "text": [
            "\n",
            "Test set: Average loss: 0.5336, Accuracy: 8193/10000 (81.93%)\n",
            "\n",
            "EPOCHS : 7\n"
          ],
          "name": "stdout"
        },
        {
          "output_type": "stream",
          "text": [
            "Loss=0.630424976348877 Batch_id=390 Accuracy=80.06: 100%|██████████| 391/391 [01:06<00:00,  5.87it/s]\n",
            "  0%|          | 0/391 [00:00<?, ?it/s]"
          ],
          "name": "stderr"
        },
        {
          "output_type": "stream",
          "text": [
            "\n",
            "Test set: Average loss: 0.5400, Accuracy: 8230/10000 (82.30%)\n",
            "\n",
            "EPOCHS : 8\n"
          ],
          "name": "stdout"
        },
        {
          "output_type": "stream",
          "text": [
            "Loss=0.6647077798843384 Batch_id=390 Accuracy=81.26: 100%|██████████| 391/391 [01:06<00:00,  5.86it/s]\n",
            "  0%|          | 0/391 [00:00<?, ?it/s]"
          ],
          "name": "stderr"
        },
        {
          "output_type": "stream",
          "text": [
            "\n",
            "Test set: Average loss: 0.4831, Accuracy: 8360/10000 (83.60%)\n",
            "\n",
            "EPOCHS : 9\n"
          ],
          "name": "stdout"
        },
        {
          "output_type": "stream",
          "text": [
            "Loss=0.4333656430244446 Batch_id=390 Accuracy=81.98: 100%|██████████| 391/391 [01:06<00:00,  5.88it/s]\n",
            "  0%|          | 0/391 [00:00<?, ?it/s]"
          ],
          "name": "stderr"
        },
        {
          "output_type": "stream",
          "text": [
            "\n",
            "Test set: Average loss: 0.4499, Accuracy: 8465/10000 (84.65%)\n",
            "\n",
            "EPOCHS : 10\n"
          ],
          "name": "stdout"
        },
        {
          "output_type": "stream",
          "text": [
            "Loss=0.48665839433670044 Batch_id=390 Accuracy=82.88: 100%|██████████| 391/391 [01:06<00:00,  5.87it/s]\n",
            "  0%|          | 0/391 [00:00<?, ?it/s]"
          ],
          "name": "stderr"
        },
        {
          "output_type": "stream",
          "text": [
            "\n",
            "Test set: Average loss: 0.4445, Accuracy: 8496/10000 (84.96%)\n",
            "\n",
            "EPOCHS : 11\n"
          ],
          "name": "stdout"
        },
        {
          "output_type": "stream",
          "text": [
            "Loss=0.5296437740325928 Batch_id=390 Accuracy=83.69: 100%|██████████| 391/391 [01:06<00:00,  5.90it/s]\n",
            "  0%|          | 0/391 [00:00<?, ?it/s]"
          ],
          "name": "stderr"
        },
        {
          "output_type": "stream",
          "text": [
            "\n",
            "Test set: Average loss: 0.4048, Accuracy: 8615/10000 (86.15%)\n",
            "\n",
            "EPOCHS : 12\n"
          ],
          "name": "stdout"
        },
        {
          "output_type": "stream",
          "text": [
            "Loss=0.4386904239654541 Batch_id=390 Accuracy=84.37: 100%|██████████| 391/391 [01:06<00:00,  5.90it/s]\n",
            "  0%|          | 0/391 [00:00<?, ?it/s]"
          ],
          "name": "stderr"
        },
        {
          "output_type": "stream",
          "text": [
            "\n",
            "Test set: Average loss: 0.4047, Accuracy: 8648/10000 (86.48%)\n",
            "\n",
            "EPOCHS : 13\n"
          ],
          "name": "stdout"
        },
        {
          "output_type": "stream",
          "text": [
            "Loss=0.6375130414962769 Batch_id=390 Accuracy=85.02: 100%|██████████| 391/391 [01:06<00:00,  5.88it/s]\n",
            "  0%|          | 0/391 [00:00<?, ?it/s]"
          ],
          "name": "stderr"
        },
        {
          "output_type": "stream",
          "text": [
            "\n",
            "Test set: Average loss: 0.4295, Accuracy: 8604/10000 (86.04%)\n",
            "\n",
            "EPOCHS : 14\n"
          ],
          "name": "stdout"
        },
        {
          "output_type": "stream",
          "text": [
            "Loss=0.45199570059776306 Batch_id=390 Accuracy=85.47: 100%|██████████| 391/391 [01:06<00:00,  5.87it/s]\n",
            "  0%|          | 0/391 [00:00<?, ?it/s]"
          ],
          "name": "stderr"
        },
        {
          "output_type": "stream",
          "text": [
            "\n",
            "Test set: Average loss: 0.4361, Accuracy: 8587/10000 (85.87%)\n",
            "\n",
            "EPOCHS : 15\n"
          ],
          "name": "stdout"
        },
        {
          "output_type": "stream",
          "text": [
            "Loss=0.4309301972389221 Batch_id=390 Accuracy=86.27: 100%|██████████| 391/391 [01:06<00:00,  5.88it/s]\n",
            "  0%|          | 0/391 [00:00<?, ?it/s]"
          ],
          "name": "stderr"
        },
        {
          "output_type": "stream",
          "text": [
            "\n",
            "Test set: Average loss: 0.3795, Accuracy: 8722/10000 (87.22%)\n",
            "\n",
            "EPOCHS : 16\n"
          ],
          "name": "stdout"
        },
        {
          "output_type": "stream",
          "text": [
            "Loss=0.2882388234138489 Batch_id=390 Accuracy=86.61: 100%|██████████| 391/391 [01:06<00:00,  5.87it/s]\n",
            "  0%|          | 0/391 [00:00<?, ?it/s]"
          ],
          "name": "stderr"
        },
        {
          "output_type": "stream",
          "text": [
            "\n",
            "Test set: Average loss: 0.4011, Accuracy: 8638/10000 (86.38%)\n",
            "\n",
            "EPOCHS : 17\n"
          ],
          "name": "stdout"
        },
        {
          "output_type": "stream",
          "text": [
            "Loss=0.4086550772190094 Batch_id=390 Accuracy=87.18: 100%|██████████| 391/391 [01:06<00:00,  5.85it/s]\n",
            "  0%|          | 0/391 [00:00<?, ?it/s]"
          ],
          "name": "stderr"
        },
        {
          "output_type": "stream",
          "text": [
            "\n",
            "Test set: Average loss: 0.3679, Accuracy: 8796/10000 (87.96%)\n",
            "\n",
            "EPOCHS : 18\n"
          ],
          "name": "stdout"
        },
        {
          "output_type": "stream",
          "text": [
            "Loss=0.3818275034427643 Batch_id=390 Accuracy=87.38: 100%|██████████| 391/391 [01:06<00:00,  5.88it/s]\n",
            "  0%|          | 0/391 [00:00<?, ?it/s]"
          ],
          "name": "stderr"
        },
        {
          "output_type": "stream",
          "text": [
            "\n",
            "Test set: Average loss: 0.3723, Accuracy: 8759/10000 (87.59%)\n",
            "\n",
            "EPOCHS : 19\n"
          ],
          "name": "stdout"
        },
        {
          "output_type": "stream",
          "text": [
            "Loss=0.2600772976875305 Batch_id=390 Accuracy=87.85: 100%|██████████| 391/391 [01:06<00:00,  5.89it/s]\n",
            "  0%|          | 0/391 [00:00<?, ?it/s]"
          ],
          "name": "stderr"
        },
        {
          "output_type": "stream",
          "text": [
            "\n",
            "Test set: Average loss: 0.3790, Accuracy: 8782/10000 (87.82%)\n",
            "\n",
            "EPOCHS : 20\n"
          ],
          "name": "stdout"
        },
        {
          "output_type": "stream",
          "text": [
            "Loss=0.3168061077594757 Batch_id=390 Accuracy=88.36: 100%|██████████| 391/391 [01:06<00:00,  5.88it/s]\n",
            "  0%|          | 0/391 [00:00<?, ?it/s]"
          ],
          "name": "stderr"
        },
        {
          "output_type": "stream",
          "text": [
            "\n",
            "Test set: Average loss: 0.3706, Accuracy: 8781/10000 (87.81%)\n",
            "\n",
            "EPOCHS : 21\n"
          ],
          "name": "stdout"
        },
        {
          "output_type": "stream",
          "text": [
            "Loss=0.4149806499481201 Batch_id=390 Accuracy=88.92: 100%|██████████| 391/391 [01:06<00:00,  5.86it/s]\n",
            "  0%|          | 0/391 [00:00<?, ?it/s]"
          ],
          "name": "stderr"
        },
        {
          "output_type": "stream",
          "text": [
            "\n",
            "Test set: Average loss: 0.3743, Accuracy: 8829/10000 (88.29%)\n",
            "\n",
            "EPOCHS : 22\n"
          ],
          "name": "stdout"
        },
        {
          "output_type": "stream",
          "text": [
            "Loss=0.43168067932128906 Batch_id=390 Accuracy=89.17: 100%|██████████| 391/391 [01:06<00:00,  5.86it/s]\n",
            "  0%|          | 0/391 [00:00<?, ?it/s]"
          ],
          "name": "stderr"
        },
        {
          "output_type": "stream",
          "text": [
            "\n",
            "Test set: Average loss: 0.3710, Accuracy: 8824/10000 (88.24%)\n",
            "\n",
            "EPOCHS : 23\n"
          ],
          "name": "stdout"
        },
        {
          "output_type": "stream",
          "text": [
            "Loss=0.3764040470123291 Batch_id=390 Accuracy=89.52: 100%|██████████| 391/391 [01:06<00:00,  5.88it/s]\n",
            "  0%|          | 0/391 [00:00<?, ?it/s]"
          ],
          "name": "stderr"
        },
        {
          "output_type": "stream",
          "text": [
            "\n",
            "Test set: Average loss: 0.3660, Accuracy: 8858/10000 (88.58%)\n",
            "\n",
            "EPOCHS : 24\n"
          ],
          "name": "stdout"
        },
        {
          "output_type": "stream",
          "text": [
            "Loss=0.34892740845680237 Batch_id=390 Accuracy=89.71: 100%|██████████| 391/391 [01:06<00:00,  5.87it/s]\n",
            "  0%|          | 0/391 [00:00<?, ?it/s]"
          ],
          "name": "stderr"
        },
        {
          "output_type": "stream",
          "text": [
            "\n",
            "Test set: Average loss: 0.3682, Accuracy: 8878/10000 (88.78%)\n",
            "\n",
            "EPOCHS : 25\n"
          ],
          "name": "stdout"
        },
        {
          "output_type": "stream",
          "text": [
            "Loss=0.29711049795150757 Batch_id=390 Accuracy=92.05: 100%|██████████| 391/391 [01:06<00:00,  5.87it/s]\n",
            "  0%|          | 0/391 [00:00<?, ?it/s]"
          ],
          "name": "stderr"
        },
        {
          "output_type": "stream",
          "text": [
            "\n",
            "Test set: Average loss: 0.2919, Accuracy: 9077/10000 (90.77%)\n",
            "\n",
            "EPOCHS : 26\n"
          ],
          "name": "stdout"
        },
        {
          "output_type": "stream",
          "text": [
            "Loss=0.1355617493391037 Batch_id=390 Accuracy=92.78: 100%|██████████| 391/391 [01:06<00:00,  5.87it/s]\n",
            "  0%|          | 0/391 [00:00<?, ?it/s]"
          ],
          "name": "stderr"
        },
        {
          "output_type": "stream",
          "text": [
            "\n",
            "Test set: Average loss: 0.2877, Accuracy: 9090/10000 (90.90%)\n",
            "\n",
            "EPOCHS : 27\n"
          ],
          "name": "stdout"
        },
        {
          "output_type": "stream",
          "text": [
            "Loss=0.16650189459323883 Batch_id=390 Accuracy=93.12: 100%|██████████| 391/391 [01:06<00:00,  5.87it/s]\n",
            "  0%|          | 0/391 [00:00<?, ?it/s]"
          ],
          "name": "stderr"
        },
        {
          "output_type": "stream",
          "text": [
            "\n",
            "Test set: Average loss: 0.2848, Accuracy: 9102/10000 (91.02%)\n",
            "\n",
            "EPOCHS : 28\n"
          ],
          "name": "stdout"
        },
        {
          "output_type": "stream",
          "text": [
            "Loss=0.15009300410747528 Batch_id=390 Accuracy=93.33: 100%|██████████| 391/391 [01:06<00:00,  5.86it/s]\n",
            "  0%|          | 0/391 [00:00<?, ?it/s]"
          ],
          "name": "stderr"
        },
        {
          "output_type": "stream",
          "text": [
            "\n",
            "Test set: Average loss: 0.2843, Accuracy: 9096/10000 (90.96%)\n",
            "\n",
            "EPOCHS : 29\n"
          ],
          "name": "stdout"
        },
        {
          "output_type": "stream",
          "text": [
            "Loss=0.2227218896150589 Batch_id=390 Accuracy=93.33: 100%|██████████| 391/391 [01:06<00:00,  5.88it/s]\n"
          ],
          "name": "stderr"
        },
        {
          "output_type": "stream",
          "text": [
            "\n",
            "Test set: Average loss: 0.2858, Accuracy: 9099/10000 (90.99%)\n",
            "\n"
          ],
          "name": "stdout"
        }
      ]
    }
  ]
}