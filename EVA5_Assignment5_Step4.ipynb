{
  "nbformat": 4,
  "nbformat_minor": 0,
  "metadata": {
    "colab": {
      "name": "EVA5_Assignment5_Step4.ipynb",
      "provenance": [],
      "collapsed_sections": [],
      "authorship_tag": "ABX9TyMmzm5EJya8eCzO7IoAKmMr"
    },
    "kernelspec": {
      "name": "python3",
      "display_name": "Python 3"
    },
    "accelerator": "GPU"
  },
  "cells": [
    {
      "cell_type": "code",
      "metadata": {
        "id": "vtA_G9_o1bpx",
        "colab_type": "code",
        "colab": {}
      },
      "source": [
        "import numpy as np\n",
        "\n",
        "import torch\n",
        "from torchvision import datasets, transforms\n",
        "from torch.utils.data import DataLoader\n",
        "from torchsummary import summary\n",
        "from torch import nn\n",
        "import torch.nn\n",
        "from torch.functional import F\n",
        "\n",
        "from tqdm import tqdm\n",
        "import torch.optim as optim\n",
        "\n",
        "\n",
        "import matplotlib.pyplot as plt\n",
        "import os"
      ],
      "execution_count": 35,
      "outputs": []
    },
    {
      "cell_type": "code",
      "metadata": {
        "id": "hIsNhj2e1g9l",
        "colab_type": "code",
        "colab": {}
      },
      "source": [
        "train_transforms = transforms.Compose([\n",
        "                                      transforms.RandomRotation((-14.0, 14.0), fill=(1,)),\n",
        "                                      transforms.ColorJitter(brightness=0.10, contrast=0.1, saturation=0.10, hue=0.1),\n",
        "                                      transforms.ToTensor(),\n",
        "                                      transforms.Normalize((0.1307,),(0.3081,)),\n",
        "                                      ])\n",
        "\n",
        "\n",
        "test_transforms = transforms.Compose([\n",
        "                                    #   transforms.RandomRotation((-7.0, 7.0), fill=(1,)),\n",
        "                                    #   transforms.ColorJitter(brightness=0.10, contrast=0.1, saturation=0.10, hue=0.1),\n",
        "                                      transforms.ToTensor(),\n",
        "                                      transforms.Normalize((0.1307,),(0.3081,)),\n",
        "                                      ])"
      ],
      "execution_count": 21,
      "outputs": []
    },
    {
      "cell_type": "code",
      "metadata": {
        "id": "u0GAjcjc1hZg",
        "colab_type": "code",
        "colab": {}
      },
      "source": [
        "train = datasets.MNIST('./data', train=True, download=True, transform=train_transforms)\n",
        "test = datasets.MNIST('./data',train=False, download=True, transform=test_transforms)"
      ],
      "execution_count": 22,
      "outputs": []
    },
    {
      "cell_type": "code",
      "metadata": {
        "id": "Dl6V8bbG1oK8",
        "colab_type": "code",
        "colab": {
          "base_uri": "https://localhost:8080/",
          "height": 35
        },
        "outputId": "127b288d-db20-47e8-84c3-80f4571038c3"
      },
      "source": [
        "#\n",
        "SEED = 1\n",
        "\n",
        "device = 'cuda' if torch.cuda else 'cpu'\n",
        "print(device)\n",
        "\n",
        "# for Reproducable results\n",
        "torch.manual_seed(SEED)\n",
        "\n",
        "#Setting seed if CUDA\n",
        "if torch.cuda.is_available():\n",
        "    torch.cuda.manual_seed(SEED)\n",
        "\n",
        "# Dataloader Arguments\n",
        "dataloader_args = dict(shuffle=True, num_workers=4, batch_size=128, pin_memory=True) if torch.cuda.is_available() else dict(shuffle=True, batch_size=64)\n",
        "\n",
        "train_dataloader = DataLoader(train,**dataloader_args)\n",
        "\n",
        "test_dataloader = DataLoader(test, **dataloader_args)"
      ],
      "execution_count": 23,
      "outputs": [
        {
          "output_type": "stream",
          "text": [
            "cuda\n"
          ],
          "name": "stdout"
        }
      ]
    },
    {
      "cell_type": "code",
      "metadata": {
        "id": "3KpO2SAi1qaq",
        "colab_type": "code",
        "colab": {}
      },
      "source": [
        "#The Model"
      ],
      "execution_count": 5,
      "outputs": []
    },
    {
      "cell_type": "code",
      "metadata": {
        "id": "Ljtgiglj1tRL",
        "colab_type": "code",
        "colab": {}
      },
      "source": [
        "class Net(nn.Module):\n",
        "\n",
        "    def __init__(self):\n",
        "        super(Net, self).__init__()\n",
        "\n",
        "        self.conv1 = nn.Sequential(\n",
        "            nn.Conv2d(1, 10, 3, bias=False, padding=1),  # 28\n",
        "            nn.ReLU(),\n",
        "            nn.Dropout(0.05),\n",
        "            nn.BatchNorm2d(10),\n",
        "        )\n",
        "        \n",
        "        self.conv2 = nn.Sequential(\n",
        "            nn.Conv2d(10, 10, 3, bias=False, padding=1),  # 28\n",
        "            nn.ReLU(),\n",
        "            nn.BatchNorm2d(10),\n",
        "            nn.Dropout(0.05),\n",
        "\n",
        "        )\n",
        "\n",
        "        self.pool1 = nn.MaxPool2d(2, 2) #14\n",
        "\n",
        "        self.conv3 = nn.Sequential(\n",
        "            nn.Conv2d(10, 10, 3, bias=False),  # 12\n",
        "            nn.ReLU(),\n",
        "            nn.Dropout(0.05),\n",
        "            nn.BatchNorm2d(10),\n",
        "            # nn.MaxPool2d(2,2), #11\n",
        "        )\n",
        "\n",
        "        self.conv4 = nn.Sequential(\n",
        "            nn.Conv2d(10, 10, 3, bias=False, padding=0),  # 10\n",
        "            nn.ReLU(),\n",
        "            nn.BatchNorm2d(10),\n",
        "            nn.Dropout(0.05),\n",
        "         )\n",
        "\n",
        "        self.convn = nn.Sequential(\n",
        "            nn.Conv2d(10, 16, 3, bias=False, padding=0),  # 8\n",
        "            nn.ReLU(),\n",
        "            nn.BatchNorm2d(16),\n",
        "            nn.Dropout(0.05),\n",
        "         )\n",
        "\n",
        "\n",
        "        self.conv5 = nn.Sequential(\n",
        "            nn.Conv2d(16, 16, 3, stride=1, bias=False, padding=0),  # 6\n",
        "            nn.ReLU(),\n",
        "            nn.Dropout(0.05),\n",
        "            nn.BatchNorm2d(16),\n",
        "            \n",
        "        )\n",
        "\n",
        "        # self.conv2n = nn.Sequential(\n",
        "        #     nn.Conv2d(16, 10, 1, stride=2, bias=False, padding=1),  # 09\n",
        "        #     nn.ReLU(),\n",
        "        #     nn.Dropout(0.05),\n",
        "        #     nn.BatchNorm2d(10),\n",
        "            \n",
        "        # )\n",
        "\n",
        "        self.conv6 = nn.Sequential(\n",
        "            nn.Conv2d(16, 16, 3, bias=False, padding=0),  # 4\n",
        "            nn.ReLU(),\n",
        "            nn.Dropout(0.05),\n",
        "            nn.BatchNorm2d(16),\n",
        "        )\n",
        "        \n",
        "       # self.conv7 = nn.Sequential(\n",
        "       #     nn.Conv2d(10, 25, 3, bias=False, padding=1),  #5\n",
        "       #     nn.ReLU(),\n",
        "       #     nn.Dropout(0.05),\n",
        "       #     nn.BatchNorm2d(25),\n",
        "       # )\n",
        "\n",
        "        self.gap = nn.Sequential(\n",
        "            nn.AvgPool2d(kernel_size=4)\n",
        "        )\n",
        "        \n",
        "        # self.conv8 = nn.Sequential(\n",
        "        #     nn.Conv2d(20, 32, 1, bias=False, padding=0),  #1\n",
        "        #     nn.BatchNorm2d(32),\n",
        "        # )\n",
        "\n",
        "        self.conv9 = nn.Sequential(\n",
        "            nn.Conv2d(16, 10, 1, bias=False, padding=0),  #1\n",
        "        )\n",
        "\n",
        "    def forward(self,x):\n",
        "        x = self.conv1(x)\n",
        "        x = self.conv2(x)\n",
        "        x = self.pool1(x)\n",
        "        x = self.conv3(x)\n",
        "        x = self.conv4(x)\n",
        "        x = self.convn(x)\n",
        "        x = self.conv5(x)\n",
        "        # x = self.conv2n(x)\n",
        "        x = self.conv6(x)\n",
        "       # x = self.conv7(x)\n",
        "        x = self.gap(x)\n",
        "        # x = self.conv8(x)\n",
        "        x = self.conv9(x)\n",
        "        x = x.view(-1,10)\n",
        "        return F.log_softmax(x, dim=-1)"
      ],
      "execution_count": 30,
      "outputs": []
    },
    {
      "cell_type": "code",
      "metadata": {
        "id": "8TxuSzAM14Rf",
        "colab_type": "code",
        "colab": {
          "base_uri": "https://localhost:8080/",
          "height": 830
        },
        "outputId": "89125bff-7288-4473-9273-78d86ed89a82"
      },
      "source": [
        "device = torch.device('cuda' if torch.cuda.is_available() else 'cpu')\n",
        "model = Net().to(device)\n",
        "summary(model, input_size=(1, 28, 28))"
      ],
      "execution_count": 31,
      "outputs": [
        {
          "output_type": "stream",
          "text": [
            "----------------------------------------------------------------\n",
            "        Layer (type)               Output Shape         Param #\n",
            "================================================================\n",
            "            Conv2d-1           [-1, 10, 28, 28]              90\n",
            "              ReLU-2           [-1, 10, 28, 28]               0\n",
            "           Dropout-3           [-1, 10, 28, 28]               0\n",
            "       BatchNorm2d-4           [-1, 10, 28, 28]              20\n",
            "            Conv2d-5           [-1, 10, 28, 28]             900\n",
            "              ReLU-6           [-1, 10, 28, 28]               0\n",
            "       BatchNorm2d-7           [-1, 10, 28, 28]              20\n",
            "           Dropout-8           [-1, 10, 28, 28]               0\n",
            "         MaxPool2d-9           [-1, 10, 14, 14]               0\n",
            "           Conv2d-10           [-1, 10, 12, 12]             900\n",
            "             ReLU-11           [-1, 10, 12, 12]               0\n",
            "          Dropout-12           [-1, 10, 12, 12]               0\n",
            "      BatchNorm2d-13           [-1, 10, 12, 12]              20\n",
            "           Conv2d-14           [-1, 10, 10, 10]             900\n",
            "             ReLU-15           [-1, 10, 10, 10]               0\n",
            "      BatchNorm2d-16           [-1, 10, 10, 10]              20\n",
            "          Dropout-17           [-1, 10, 10, 10]               0\n",
            "           Conv2d-18             [-1, 16, 8, 8]           1,440\n",
            "             ReLU-19             [-1, 16, 8, 8]               0\n",
            "      BatchNorm2d-20             [-1, 16, 8, 8]              32\n",
            "          Dropout-21             [-1, 16, 8, 8]               0\n",
            "           Conv2d-22             [-1, 16, 6, 6]           2,304\n",
            "             ReLU-23             [-1, 16, 6, 6]               0\n",
            "          Dropout-24             [-1, 16, 6, 6]               0\n",
            "      BatchNorm2d-25             [-1, 16, 6, 6]              32\n",
            "           Conv2d-26             [-1, 16, 4, 4]           2,304\n",
            "             ReLU-27             [-1, 16, 4, 4]               0\n",
            "          Dropout-28             [-1, 16, 4, 4]               0\n",
            "      BatchNorm2d-29             [-1, 16, 4, 4]              32\n",
            "        AvgPool2d-30             [-1, 16, 1, 1]               0\n",
            "           Conv2d-31             [-1, 10, 1, 1]             160\n",
            "================================================================\n",
            "Total params: 9,174\n",
            "Trainable params: 9,174\n",
            "Non-trainable params: 0\n",
            "----------------------------------------------------------------\n",
            "Input size (MB): 0.00\n",
            "Forward/backward pass size (MB): 0.62\n",
            "Params size (MB): 0.03\n",
            "Estimated Total Size (MB): 0.66\n",
            "----------------------------------------------------------------\n"
          ],
          "name": "stdout"
        }
      ]
    },
    {
      "cell_type": "code",
      "metadata": {
        "id": "guagNjPH12u0",
        "colab_type": "code",
        "colab": {}
      },
      "source": [
        "train_acc = []\n",
        "test_acc = []\n",
        "train_losses = []\n",
        "test_losses = []\n",
        "\n",
        "def train(model, device, train_dataloader, optimizer, epochs):\n",
        "    model.train()\n",
        "    pbar = tqdm(train_dataloader)\n",
        "    correct = 0\n",
        "    processed = 0\n",
        "\n",
        "    for batch_idx, (data, target) in enumerate(pbar):\n",
        "        data, target = data.to(device), target.to(device)\n",
        "        optimizer.zero_grad()\n",
        "        y_pred = model(data)\n",
        "        loss = F.nll_loss(y_pred, target)\n",
        "        train_losses.append(loss)\n",
        "        loss.backward()\n",
        "        optimizer.step()\n",
        "\n",
        "        pred = y_pred.argmax(dim=1, keepdim=True)\n",
        "        correct += pred.eq(target.view_as(pred)).sum().item()\n",
        "        processed += len(data)\n",
        "\n",
        "        pbar.set_description(desc=f'Loss={loss.item()} Batch_id={batch_idx} Accuracy={100*correct/processed:0.2f}')\n",
        "        train_acc.append(100*correct/processed)\n",
        "\n",
        "\n",
        "\n",
        "def test(model, device, test_dataloader):\n",
        "    model.eval()\n",
        "    test_loss = 0\n",
        "    correct = 0\n",
        "    \n",
        "    with torch.no_grad():\n",
        "\n",
        "        for data, target in test_dataloader:\n",
        "            data, target = data.to(device), target.to(device)\n",
        "            output = model(data)\n",
        "            pred = output.argmax(dim=1, keepdim=True)\n",
        "            test_loss += F.nll_loss(output, target, reduction='sum').item()\n",
        "            correct += pred.eq(target.view_as(pred)).sum().item()\n",
        "    test_loss /= len(test_dataloader.dataset)\n",
        "    test_losses.append(test_loss)\n",
        "    \n",
        "    print('\\nTest set: Average loss: {:.4f}, Accuracy: {}/{} ({:.2f}%)\\n'.format(\n",
        "        test_loss, correct, len(test_dataloader.dataset),\n",
        "        100. * correct / len(test_dataloader.dataset)))\n",
        "    \n",
        "    test_acc.append(100. * correct / len(test_dataloader.dataset))"
      ],
      "execution_count": 32,
      "outputs": []
    },
    {
      "cell_type": "code",
      "metadata": {
        "id": "bJu-lCCb2DQE",
        "colab_type": "code",
        "colab": {
          "base_uri": "https://localhost:8080/",
          "height": 1000
        },
        "outputId": "a297b6e4-fff7-4d69-e70b-b67e2bb6424c"
      },
      "source": [
        "\n",
        "from torch.optim.lr_scheduler import StepLR, ReduceLROnPlateau\n",
        "model = Net().to(device)\n",
        "optimizer = optim.SGD(model.parameters(), lr=0.01, momentum=0.9)\n",
        "# scheduler = ReduceLROnPlateau(optimizer, mode='min', factor=0.1, patience=3, verbose=False, threshold=0.0001, threshold_mode='rel', cooldown=0, min_lr=0, eps=1e-08)\n",
        "scheduler = StepLR(optimizer, step_size=10, gamma=0.06)\n",
        "EPOCHS = 14\n",
        "\n",
        "for epoch in range(EPOCHS):\n",
        "    print('EPOCH - ', epoch)\n",
        "    train(model, device, train_dataloader, optimizer, epoch)\n",
        "    scheduler.step()\n",
        "    test(model, device, test_dataloader)"
      ],
      "execution_count": 33,
      "outputs": [
        {
          "output_type": "stream",
          "text": [
            "\r  0%|          | 0/469 [00:00<?, ?it/s]"
          ],
          "name": "stderr"
        },
        {
          "output_type": "stream",
          "text": [
            "EPOCH -  0\n"
          ],
          "name": "stdout"
        },
        {
          "output_type": "stream",
          "text": [
            "Loss=0.17363113164901733 Batch_id=468 Accuracy=89.81: 100%|██████████| 469/469 [00:33<00:00, 14.16it/s]\n",
            "  0%|          | 0/469 [00:00<?, ?it/s]"
          ],
          "name": "stderr"
        },
        {
          "output_type": "stream",
          "text": [
            "\n",
            "Test set: Average loss: 0.0633, Accuracy: 9829/10000 (98.29%)\n",
            "\n",
            "EPOCH -  1\n"
          ],
          "name": "stdout"
        },
        {
          "output_type": "stream",
          "text": [
            "Loss=0.11005830764770508 Batch_id=468 Accuracy=97.38: 100%|██████████| 469/469 [00:33<00:00, 14.09it/s]\n",
            "  0%|          | 0/469 [00:00<?, ?it/s]"
          ],
          "name": "stderr"
        },
        {
          "output_type": "stream",
          "text": [
            "\n",
            "Test set: Average loss: 0.0399, Accuracy: 9894/10000 (98.94%)\n",
            "\n",
            "EPOCH -  2\n"
          ],
          "name": "stdout"
        },
        {
          "output_type": "stream",
          "text": [
            "Loss=0.10312335938215256 Batch_id=468 Accuracy=97.95: 100%|██████████| 469/469 [00:33<00:00, 13.95it/s]\n",
            "  0%|          | 0/469 [00:00<?, ?it/s]"
          ],
          "name": "stderr"
        },
        {
          "output_type": "stream",
          "text": [
            "\n",
            "Test set: Average loss: 0.0299, Accuracy: 9916/10000 (99.16%)\n",
            "\n",
            "EPOCH -  3\n"
          ],
          "name": "stdout"
        },
        {
          "output_type": "stream",
          "text": [
            "Loss=0.02569451369345188 Batch_id=468 Accuracy=98.21: 100%|██████████| 469/469 [00:33<00:00, 14.05it/s]\n",
            "  0%|          | 0/469 [00:00<?, ?it/s]"
          ],
          "name": "stderr"
        },
        {
          "output_type": "stream",
          "text": [
            "\n",
            "Test set: Average loss: 0.0294, Accuracy: 9910/10000 (99.10%)\n",
            "\n",
            "EPOCH -  4\n"
          ],
          "name": "stdout"
        },
        {
          "output_type": "stream",
          "text": [
            "Loss=0.05234966054558754 Batch_id=468 Accuracy=98.31: 100%|██████████| 469/469 [00:33<00:00, 14.01it/s]\n",
            "  0%|          | 0/469 [00:00<?, ?it/s]"
          ],
          "name": "stderr"
        },
        {
          "output_type": "stream",
          "text": [
            "\n",
            "Test set: Average loss: 0.0270, Accuracy: 9917/10000 (99.17%)\n",
            "\n",
            "EPOCH -  5\n"
          ],
          "name": "stdout"
        },
        {
          "output_type": "stream",
          "text": [
            "Loss=0.03407256305217743 Batch_id=468 Accuracy=98.35: 100%|██████████| 469/469 [00:33<00:00, 14.02it/s]\n",
            "  0%|          | 0/469 [00:00<?, ?it/s]"
          ],
          "name": "stderr"
        },
        {
          "output_type": "stream",
          "text": [
            "\n",
            "Test set: Average loss: 0.0279, Accuracy: 9919/10000 (99.19%)\n",
            "\n",
            "EPOCH -  6\n"
          ],
          "name": "stdout"
        },
        {
          "output_type": "stream",
          "text": [
            "Loss=0.05708405375480652 Batch_id=468 Accuracy=98.48: 100%|██████████| 469/469 [00:33<00:00, 13.83it/s]\n",
            "  0%|          | 0/469 [00:00<?, ?it/s]"
          ],
          "name": "stderr"
        },
        {
          "output_type": "stream",
          "text": [
            "\n",
            "Test set: Average loss: 0.0214, Accuracy: 9941/10000 (99.41%)\n",
            "\n",
            "EPOCH -  7\n"
          ],
          "name": "stdout"
        },
        {
          "output_type": "stream",
          "text": [
            "Loss=0.023480163887143135 Batch_id=468 Accuracy=98.55: 100%|██████████| 469/469 [00:33<00:00, 14.05it/s]\n",
            "  0%|          | 0/469 [00:00<?, ?it/s]"
          ],
          "name": "stderr"
        },
        {
          "output_type": "stream",
          "text": [
            "\n",
            "Test set: Average loss: 0.0216, Accuracy: 9939/10000 (99.39%)\n",
            "\n",
            "EPOCH -  8\n"
          ],
          "name": "stdout"
        },
        {
          "output_type": "stream",
          "text": [
            "Loss=0.07665156573057175 Batch_id=468 Accuracy=98.70: 100%|██████████| 469/469 [00:33<00:00, 14.09it/s]\n",
            "  0%|          | 0/469 [00:00<?, ?it/s]"
          ],
          "name": "stderr"
        },
        {
          "output_type": "stream",
          "text": [
            "\n",
            "Test set: Average loss: 0.0312, Accuracy: 9903/10000 (99.03%)\n",
            "\n",
            "EPOCH -  9\n"
          ],
          "name": "stdout"
        },
        {
          "output_type": "stream",
          "text": [
            "Loss=0.041961733251810074 Batch_id=468 Accuracy=98.69: 100%|██████████| 469/469 [00:33<00:00, 14.06it/s]\n",
            "  0%|          | 0/469 [00:00<?, ?it/s]"
          ],
          "name": "stderr"
        },
        {
          "output_type": "stream",
          "text": [
            "\n",
            "Test set: Average loss: 0.0186, Accuracy: 9938/10000 (99.38%)\n",
            "\n",
            "EPOCH -  10\n"
          ],
          "name": "stdout"
        },
        {
          "output_type": "stream",
          "text": [
            "Loss=0.009409460239112377 Batch_id=468 Accuracy=98.90: 100%|██████████| 469/469 [00:33<00:00, 14.10it/s]\n",
            "  0%|          | 0/469 [00:00<?, ?it/s]"
          ],
          "name": "stderr"
        },
        {
          "output_type": "stream",
          "text": [
            "\n",
            "Test set: Average loss: 0.0169, Accuracy: 9949/10000 (99.49%)\n",
            "\n",
            "EPOCH -  11\n"
          ],
          "name": "stdout"
        },
        {
          "output_type": "stream",
          "text": [
            "Loss=0.014981799758970737 Batch_id=468 Accuracy=98.90: 100%|██████████| 469/469 [00:33<00:00, 14.04it/s]\n",
            "  0%|          | 0/469 [00:00<?, ?it/s]"
          ],
          "name": "stderr"
        },
        {
          "output_type": "stream",
          "text": [
            "\n",
            "Test set: Average loss: 0.0170, Accuracy: 9947/10000 (99.47%)\n",
            "\n",
            "EPOCH -  12\n"
          ],
          "name": "stdout"
        },
        {
          "output_type": "stream",
          "text": [
            "Loss=0.07811714708805084 Batch_id=468 Accuracy=98.96: 100%|██████████| 469/469 [00:33<00:00, 14.11it/s]\n",
            "  0%|          | 0/469 [00:00<?, ?it/s]"
          ],
          "name": "stderr"
        },
        {
          "output_type": "stream",
          "text": [
            "\n",
            "Test set: Average loss: 0.0173, Accuracy: 9950/10000 (99.50%)\n",
            "\n",
            "EPOCH -  13\n"
          ],
          "name": "stdout"
        },
        {
          "output_type": "stream",
          "text": [
            "Loss=0.048905279487371445 Batch_id=468 Accuracy=98.92: 100%|██████████| 469/469 [00:33<00:00, 14.01it/s]\n"
          ],
          "name": "stderr"
        },
        {
          "output_type": "stream",
          "text": [
            "\n",
            "Test set: Average loss: 0.0165, Accuracy: 9953/10000 (99.53%)\n",
            "\n"
          ],
          "name": "stdout"
        }
      ]
    },
    {
      "cell_type": "code",
      "metadata": {
        "id": "-kJWhr7S2FZh",
        "colab_type": "code",
        "colab": {
          "base_uri": "https://localhost:8080/",
          "height": 625
        },
        "outputId": "d49f8dfe-8695-4eb0-d304-5503dcf5e59e"
      },
      "source": [
        "fig, axs = plt.subplots(2,2, figsize=(15,10))\n",
        "axs[0,0].plot(train_losses)\n",
        "axs[0,0].set_title('train_losses')\n",
        "axs[0,1].plot(train_acc)\n",
        "axs[0,1].set_title('Training Accuracy')\n",
        "axs[1,0].plot(test_losses)\n",
        "axs[1,0].set_title('Test Losses')\n",
        "axs[1,1].plot(test_acc)\n",
        "axs[1,1].set_title('Test Accuracy')"
      ],
      "execution_count": 37,
      "outputs": [
        {
          "output_type": "execute_result",
          "data": {
            "text/plain": [
              "Text(0.5, 1.0, 'Test Accuracy')"
            ]
          },
          "metadata": {
            "tags": []
          },
          "execution_count": 37
        },
        {
          "output_type": "display_data",
          "data": {
            "image/png": "[encoded data removed]",
            "text/plain": [
              "<Figure size 1080x720 with 4 Axes>"
            ]
          },
          "metadata": {
            "tags": [],
            "needs_background": "light"
          }
        }
      ]
    }
  ]
}